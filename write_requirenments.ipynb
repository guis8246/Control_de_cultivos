{
 "cells": [
  {
   "cell_type": "code",
   "execution_count": 1,
   "metadata": {},
   "outputs": [],
   "source": [
    "import streamlit\n",
    "import pandas\n",
    "import plotly\n",
    "import seaborn"
   ]
  },
  {
   "cell_type": "code",
   "execution_count": 2,
   "metadata": {},
   "outputs": [
    {
     "data": {
      "text/plain": [
       "'streamlit == 1.21.0\\npandas == 1.5.3\\nplotly == 5.15.0\\nseaborn == 0.12.2\\nstreamlit-modal\\nst_aggrid\\n'"
      ]
     },
     "execution_count": 2,
     "metadata": {},
     "output_type": "execute_result"
    }
   ],
   "source": [
    "requirenments = '''\\\n",
    "streamlit == {0}\n",
    "pandas == {1}\n",
    "plotly == {2}\n",
    "seaborn == {3}\n",
    "streamlit-modal\n",
    "st_aggrid\n",
    "'''.format(streamlit.__version__, pandas.__version__, plotly.__version__, seaborn.__version__)\n",
    "\n",
    "requirenments"
   ]
  },
  {
   "cell_type": "code",
   "execution_count": 3,
   "metadata": {},
   "outputs": [],
   "source": [
    "with open('requirements.txt' , 'w') as file:\n",
    "    file.write(requirenments)"
   ]
  },
  {
   "cell_type": "code",
   "execution_count": null,
   "metadata": {},
   "outputs": [],
   "source": []
  }
 ],
 "metadata": {
  "kernelspec": {
   "display_name": "Python 3",
   "language": "python",
   "name": "python3"
  },
  "language_info": {
   "codemirror_mode": {
    "name": "ipython",
    "version": 3
   },
   "file_extension": ".py",
   "mimetype": "text/x-python",
   "name": "python",
   "nbconvert_exporter": "python",
   "pygments_lexer": "ipython3",
   "version": "3.10.6"
  },
  "orig_nbformat": 4
 },
 "nbformat": 4,
 "nbformat_minor": 2
}
