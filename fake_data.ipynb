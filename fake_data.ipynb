{
 "cells": [
  {
   "cell_type": "code",
   "execution_count": 2,
   "metadata": {},
   "outputs": [],
   "source": [
    "import json\n",
    "import pandas as pd\n",
    "import numpy as np\n"
   ]
  },
  {
   "cell_type": "code",
   "execution_count": 3,
   "metadata": {},
   "outputs": [],
   "source": [
    "field_1 = {'parcela_1':{'superficie':3.45,\n",
    "                        'localizacion':{'municipio':'campaspero',\n",
    "                                        'poligono':34,\n",
    "                                        'parcela':345},\n",
    "                        'pozo':False,\n",
    "                        'renta':False}}\n",
    "\n",
    "field_2 = {'parcela_2':{'superficie':5.45,\n",
    "                        'localizacion':{'municipio':'campaspero',\n",
    "                                        'poligono':45,\n",
    "                                        'parcela':34},\n",
    "                        'pozo':True,\n",
    "                        'renta':False}}\n",
    "\n",
    "field_3 = {'parcela_3':{'superficie':7.45,\n",
    "                        'localizacion':{'municipio':'campaspero',\n",
    "                                        'poligono':10,\n",
    "                                        'parcela':23},\n",
    "                        'pozo':False,\n",
    "                        'renta':True}}"
   ]
  },
  {
   "cell_type": "code",
   "execution_count": 4,
   "metadata": {},
   "outputs": [
    {
     "data": {
      "text/plain": [
       "{'parcela_1': {'superficie': 3.45,\n",
       "  'localizacion': {'municipio': 'campaspero', 'poligono': 34, 'parcela': 345},\n",
       "  'pozo': False,\n",
       "  'renta': False},\n",
       " 'parcela_2': {'superficie': 5.45,\n",
       "  'localizacion': {'municipio': 'campaspero', 'poligono': 45, 'parcela': 34},\n",
       "  'pozo': True,\n",
       "  'renta': False},\n",
       " 'parcela_3': {'superficie': 7.45,\n",
       "  'localizacion': {'municipio': 'campaspero', 'poligono': 10, 'parcela': 23},\n",
       "  'pozo': False,\n",
       "  'renta': True}}"
      ]
     },
     "execution_count": 4,
     "metadata": {},
     "output_type": "execute_result"
    }
   ],
   "source": [
    "all_fields = {}\n",
    "\n",
    "[all_fields.update(field) for field in [field_1, field_2, field_3]]\n",
    "\n",
    "all_fields"
   ]
  },
  {
   "cell_type": "code",
   "execution_count": 5,
   "metadata": {},
   "outputs": [],
   "source": [
    "with open('saved_data.json', 'w') as json_file:\n",
    "    \n",
    "    json.dump(all_fields, json_file)\n",
    "    \n",
    "    "
   ]
  },
  {
   "cell_type": "code",
   "execution_count": 6,
   "metadata": {},
   "outputs": [
    {
     "data": {
      "text/plain": [
       "{'parcela_1': {'superficie': 3.45,\n",
       "  'localizacion': {'municipio': 'campaspero', 'poligono': 34, 'parcela': 345},\n",
       "  'pozo': False,\n",
       "  'renta': False},\n",
       " 'parcela_2': {'superficie': 5.45,\n",
       "  'localizacion': {'municipio': 'campaspero', 'poligono': 45, 'parcela': 34},\n",
       "  'pozo': True,\n",
       "  'renta': False},\n",
       " 'parcela_3': {'superficie': 7.45,\n",
       "  'localizacion': {'municipio': 'campaspero', 'poligono': 10, 'parcela': 23},\n",
       "  'pozo': False,\n",
       "  'renta': True}}"
      ]
     },
     "execution_count": 6,
     "metadata": {},
     "output_type": "execute_result"
    }
   ],
   "source": [
    "with open('saved_data.json', 'r') as json_file_:\n",
    "    \n",
    "    data = json.load(json_file_)\n",
    "    \n",
    "data"
   ]
  },
  {
   "cell_type": "code",
   "execution_count": null,
   "metadata": {},
   "outputs": [],
   "source": []
  }
 ],
 "metadata": {
  "kernelspec": {
   "display_name": "Python 3",
   "language": "python",
   "name": "python3"
  },
  "language_info": {
   "codemirror_mode": {
    "name": "ipython",
    "version": 3
   },
   "file_extension": ".py",
   "mimetype": "text/x-python",
   "name": "python",
   "nbconvert_exporter": "python",
   "pygments_lexer": "ipython3",
   "version": "3.10.6"
  },
  "orig_nbformat": 4
 },
 "nbformat": 4,
 "nbformat_minor": 2
}
